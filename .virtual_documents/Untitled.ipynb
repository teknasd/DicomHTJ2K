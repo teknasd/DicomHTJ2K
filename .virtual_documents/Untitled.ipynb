 !source activate htj2k


import pydicom


!conda install pydicom


!pip install pydicom



